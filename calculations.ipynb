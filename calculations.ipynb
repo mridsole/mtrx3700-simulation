{
 "cells": [
  {
   "cell_type": "code",
   "execution_count": 1,
   "metadata": {
    "collapsed": true
   },
   "outputs": [],
   "source": [
    "from IPython.display import display\n",
    "import sympy as S\n",
    "S.init_printing()"
   ]
  },
  {
   "cell_type": "code",
   "execution_count": 2,
   "metadata": {
    "collapsed": false
   },
   "outputs": [],
   "source": [
    "v, ω, a, α, mr, mw, Ir, Iw, r, d = S.symbols(\"v, omega, a, alpha, m_r, m_w, I_r, I_w, r, d\")\n",
    "ωL, ωR, αL, αR, Ffl, Ffr, Mil, Mir =  S.symbols(\n",
    "    \"omega_L, omega_R, alpha_L, alpha_R, F_fl, F_fr, M_il, M_ir\")"
   ]
  },
  {
   "cell_type": "code",
   "execution_count": 3,
   "metadata": {
    "collapsed": false
   },
   "outputs": [
    {
     "data": {
      "image/png": "[encoded data removed]",
      "text/latex": [
       "$$\\left [ \\frac{r}{2} \\left(\\alpha_{L} + \\alpha_{R}\\right), \\quad \\frac{r}{4 d} \\left(- \\alpha_{L} + \\alpha_{R}\\right)\\right ]$$"
      ],
      "text/plain": [
       "⎡r⋅(α_L + α_R)  r⋅(-α_L + α_R)⎤\n",
       "⎢─────────────, ──────────────⎥\n",
       "⎣      2             4⋅d      ⎦"
      ]
     },
     "execution_count": 3,
     "metadata": {},
     "output_type": "execute_result"
    }
   ],
   "source": [
    "# the constraints\n",
    "constraints = [r/2 * (αL + αR), (r/(4*d)) * (-αL + αR)]\n",
    "constraints"
   ]
  },
  {
   "cell_type": "code",
   "execution_count": 4,
   "metadata": {
    "collapsed": false
   },
   "outputs": [
    {
     "data": {
      "image/png": "[encoded data removed]",
      "text/latex": [
       "$$\\left [ \\frac{r}{2} \\left(\\frac{1}{I_{w}} \\left(- F_{fl} r + M_{il}\\right) + \\frac{1}{I_{w}} \\left(- F_{fr} r + M_{ir}\\right)\\right), \\quad \\frac{r}{4 d} \\left(- \\frac{1}{I_{w}} \\left(- F_{fl} r + M_{il}\\right) + \\frac{1}{I_{w}} \\left(- F_{fr} r + M_{ir}\\right)\\right)\\right ]$$"
      ],
      "text/plain": [
       "⎡  ⎛-F_fl⋅r + M_il   -F_fr⋅r + Mᵢᵣ⎞    ⎛  -F_fl⋅r + M_il   -F_fr⋅r + Mᵢᵣ⎞⎤\n",
       "⎢r⋅⎜────────────── + ─────────────⎟  r⋅⎜- ────────────── + ─────────────⎟⎥\n",
       "⎢  ⎝     I_w              I_w     ⎠    ⎝       I_w              I_w     ⎠⎥\n",
       "⎢──────────────────────────────────, ────────────────────────────────────⎥\n",
       "⎣                2                                   4⋅d                 ⎦"
      ]
     },
     "execution_count": 4,
     "metadata": {},
     "output_type": "execute_result"
    }
   ],
   "source": [
    "# we know how αL and αR relate to the applied moment and floor friction, so substitute that\n",
    "constraints = list(map(lambda x: x.subs(αL, (1/Iw) * (Mil - r * Ffl)).subs(\n",
    "            αR, (1/Iw) * (Mir - r * Ffr)), constraints))\n",
    "\n",
    "constraints"
   ]
  },
  {
   "cell_type": "code",
   "execution_count": 5,
   "metadata": {
    "collapsed": false
   },
   "outputs": [
    {
     "data": {
      "image/png": "[encoded data removed]",
      "text/latex": [
       "$$\\left [ - \\frac{r}{2} \\left(\\frac{1}{I_{w}} \\left(- F_{fl} r + M_{il}\\right) + \\frac{1}{I_{w}} \\left(- F_{fr} r + M_{ir}\\right)\\right) + \\frac{1}{m_{r}} \\left(\\frac{F_{fl} m_{w}}{I_{w}} r^{2} + \\frac{F_{fr} m_{w}}{I_{w}} r^{2} + 2 - \\frac{M_{il} m_{w}}{I_{w}} r - \\frac{M_{ir} m_{w}}{I_{w}} r\\right), \\quad - \\frac{r}{4 d} \\left(- \\frac{1}{I_{w}} \\left(- F_{fl} r + M_{il}\\right) + \\frac{1}{I_{w}} \\left(- F_{fr} r + M_{ir}\\right)\\right) + \\frac{1}{I_{r}} \\left(- \\frac{F_{fl} m_{w}}{I_{w}} r^{2} + \\frac{F_{fr} m_{w}}{I_{w}} r^{2} + \\frac{M_{il} m_{w}}{I_{w}} r - \\frac{M_{ir} m_{w}}{I_{w}} r\\right)\\right ]$$"
      ],
      "text/plain": [
       "⎡                                                 2             2             \n",
       "⎢    ⎛-F_fl⋅r + M_il   -F_fr⋅r + Mᵢᵣ⎞   F_fl⋅m_w⋅r    F_fr⋅m_w⋅r        M_il⋅m\n",
       "⎢  r⋅⎜────────────── + ─────────────⎟   ─────────── + ─────────── + 2 - ──────\n",
       "⎢    ⎝     I_w              I_w     ⎠       I_w           I_w              I_w\n",
       "⎢- ────────────────────────────────── + ──────────────────────────────────────\n",
       "⎣                  2                                              mᵣ          \n",
       "\n",
       "                                                                       2      \n",
       "_w⋅r   Mᵢᵣ⋅m_w⋅r      ⎛  -F_fl⋅r + M_il   -F_fr⋅r + Mᵢᵣ⎞     F_fl⋅m_w⋅r    F_f\n",
       "──── - ─────────    r⋅⎜- ────────────── + ─────────────⎟   - ─────────── + ───\n",
       "          I_w         ⎝       I_w              I_w     ⎠         I_w          \n",
       "────────────────, - ──────────────────────────────────── + ───────────────────\n",
       "                                    4⋅d                                       \n",
       "\n",
       "       2                         ⎤\n",
       "r⋅m_w⋅r    M_il⋅m_w⋅r   Mᵢᵣ⋅m_w⋅r⎥\n",
       "──────── + ────────── - ─────────⎥\n",
       " I_w          I_w          I_w   ⎥\n",
       "─────────────────────────────────⎥\n",
       "      Iᵣ                         ⎦"
      ]
     },
     "execution_count": 5,
     "metadata": {},
     "output_type": "execute_result"
    }
   ],
   "source": [
    "FL_ = 1 + ((mw*r**2)/Iw)*Ffl - (mw*r)/Iw * Mil\n",
    "FR_ = 1 + ((mw*r**2)/Iw)*Ffr - (mw*r)/Iw * Mir\n",
    "\n",
    "equations = [(1/mr) * (FL_ + FR_) - constraints[0], \n",
    "             (1/Ir) * (FR_ - FL_) - constraints[1]]\n",
    "\n",
    "equations"
   ]
  },
  {
   "cell_type": "code",
   "execution_count": 6,
   "metadata": {
    "collapsed": false,
    "scrolled": true
   },
   "outputs": [
    {
     "data": {
      "image/png": "[encoded data removed]",
      "text/latex": [
       "$$\\left \\{ F_{fl} : \\frac{1}{r^{2} \\left(m_{r} + 2 m_{w}\\right)} \\left(- 2 I_{w} + M_{il} m_{r} r + 2 M_{il} m_{w} r\\right), \\quad F_{fr} : \\frac{1}{r^{2} \\left(m_{r} + 2 m_{w}\\right)} \\left(- 2 I_{w} + M_{ir} m_{r} r + 2 M_{ir} m_{w} r\\right)\\right \\}$$"
      ],
      "text/plain": [
       "⎧      -2⋅I_w + M_il⋅mᵣ⋅r + 2⋅M_il⋅m_w⋅r        -2⋅I_w + Mᵢᵣ⋅mᵣ⋅r + 2⋅Mᵢᵣ⋅m_w⋅\n",
       "⎪F_fl: ─────────────────────────────────, F_fr: ──────────────────────────────\n",
       "⎨                2                                       2                    \n",
       "⎪               r ⋅(mᵣ + 2⋅m_w)                         r ⋅(mᵣ + 2⋅m_w)       \n",
       "⎩                                                                             \n",
       "\n",
       "r⎫\n",
       "─⎪\n",
       " ⎬\n",
       " ⎪\n",
       " ⎭"
      ]
     },
     "execution_count": 6,
     "metadata": {},
     "output_type": "execute_result"
    }
   ],
   "source": [
    "frictions = S.solve(equations, [Ffl, Ffr])\n",
    "frictions"
   ]
  },
  {
   "cell_type": "code",
   "execution_count": 7,
   "metadata": {
    "collapsed": false
   },
   "outputs": [
    {
     "data": {
      "image/png": "[encoded data removed]",
      "text/latex": [
       "$$\\frac{2}{r \\left(m_{r} + 2 m_{w}\\right)}$$"
      ],
      "text/plain": [
       "      2       \n",
       "──────────────\n",
       "r⋅(mᵣ + 2⋅m_w)"
      ]
     },
     "metadata": {},
     "output_type": "display_data"
    },
    {
     "data": {
      "image/png": "[encoded data removed]",
      "text/latex": [
       "$$\\frac{2}{r \\left(m_{r} + 2 m_{w}\\right)}$$"
      ],
      "text/plain": [
       "      2       \n",
       "──────────────\n",
       "r⋅(mᵣ + 2⋅m_w)"
      ]
     },
     "metadata": {},
     "output_type": "display_data"
    },
    {
     "data": {
      "image/png": "[encoded data removed]",
      "text/latex": [
       "$$\\frac{2}{m_{r} + 2 m_{w}}$$"
      ],
      "text/plain": [
       "    2     \n",
       "──────────\n",
       "mᵣ + 2⋅m_w"
      ]
     },
     "metadata": {},
     "output_type": "display_data"
    },
    {
     "data": {
      "image/png": "[encoded data removed]",
      "text/latex": [
       "$$0$$"
      ],
      "text/plain": [
       "0"
      ]
     },
     "metadata": {},
     "output_type": "display_data"
    }
   ],
   "source": [
    "# we have the frictions, so we now know the original equations of motion\n",
    "# in terms of only the moment inputs!\n",
    "\n",
    "# compute the wheel angular accelerations:\n",
    "αL_ = (1/Iw) * (Mil - r * frictions[Ffl])\n",
    "αR_ = (1/Iw) * (Mir - r * frictions[Ffr])\n",
    "\n",
    "display(αL_.simplify())\n",
    "display(αR_.simplify())\n",
    "\n",
    "forward_acceleration = (r/2) * (αL_ + αR_)\n",
    "display(forward_acceleration.simplify())\n",
    "\n",
    "angular_acceleration = (r/(4*d)) * (αR_ - αL_)\n",
    "display(angular_acceleration.simplify())"
   ]
  },
  {
   "cell_type": "code",
   "execution_count": 8,
   "metadata": {
    "collapsed": false
   },
   "outputs": [
    {
     "data": {
      "image/png": "[encoded data removed]",
      "text/latex": [
       "$$\\frac{2}{m_{r} + 2 m_{w}}$$"
      ],
      "text/plain": [
       "    2     \n",
       "──────────\n",
       "mᵣ + 2⋅m_w"
      ]
     },
     "metadata": {},
     "output_type": "display_data"
    },
    {
     "data": {
      "image/png": "[encoded data removed]",
      "text/latex": [
       "$$0$$"
      ],
      "text/plain": [
       "0"
      ]
     },
     "metadata": {},
     "output_type": "display_data"
    }
   ],
   "source": [
    "# add in the friction terms\n",
    "Mfl, Mfr = S.symbols(\"Mfl, Mfr\")\n",
    "forward_acceleration = forward_acceleration.subs(Mil, Mil + Mfl).subs(Mir, Mir + Mfr)\n",
    "angular_acceleration = angular_acceleration.subs(Mil, Mil + Mfl).subs(Mir, Mir + Mfr)\n",
    "\n",
    "display(forward_acceleration.simplify())\n",
    "display(angular_acceleration.simplify())"
   ]
  },
  {
   "cell_type": "code",
   "execution_count": 13,
   "metadata": {
    "collapsed": false
   },
   "outputs": [
    {
     "data": {
      "image/png": "[encoded data removed]",
      "text/latex": [
       "$$\\left \\{ v_{L} : - d ω + v, \\quad v_{R} : d ω + v\\right \\}$$"
      ],
      "text/plain": [
       "{v_L: -d⋅ω + v, v_R: d⋅ω + v}"
      ]
     },
     "execution_count": 13,
     "metadata": {},
     "output_type": "execute_result"
    }
   ],
   "source": [
    "vL, vR, v, ω, d = S.symbols(\"v_L, v_R, v, ω, d\")\n",
    "S.solve([v - (vL + vR) / 2, ω - (1/(2*d)) * (vR - vL)], [vL, vR])"
   ]
  }
 ],
 "metadata": {
  "kernelspec": {
   "display_name": "Python 3",
   "language": "python",
   "name": "python3"
  },
  "language_info": {
   "codemirror_mode": {
    "name": "ipython",
    "version": 3
   },
   "file_extension": ".py",
   "mimetype": "text/x-python",
   "name": "python",
   "nbconvert_exporter": "python",
   "pygments_lexer": "ipython3",
   "version": "3.5.2"
  }
 },
 "nbformat": 4,
 "nbformat_minor": 0
}
